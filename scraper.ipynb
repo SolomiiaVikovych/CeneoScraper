{
 "cells": [
  {
   "cell_type": "markdown",
   "metadata": {},
   "source": [
    "### Import\n"
   ]
  },
  {
   "cell_type": "code",
   "execution_count": 14,
   "metadata": {},
   "outputs": [],
   "source": [
    "import os\n",
    "import requests\n",
    "from bs4 import BeautifulSoup\n",
    "import json"
   ]
  },
  {
   "cell_type": "code",
   "execution_count": 2,
   "metadata": {},
   "outputs": [],
   "source": [
    "with open('./cookie.json', 'r', encoding = \"UTF-8\") as jf:\n",
    "    headers = json.load(jf)"
   ]
  },
  {
   "cell_type": "code",
   "execution_count": 16,
   "metadata": {},
   "outputs": [
    {
     "name": "stdout",
     "output_type": "stream",
     "text": [
      "[{'opinion_id': '13551598', 'author': 'b...a', 'recommend': 'Polecam', 'stars': '4/5', 'content': 'Wykonana dobrze, trochę za duża, z ledwością mieści mi się na biurku, ale może być. Drukuje ciszej w porównaniu z poprzednią drukarką HP 209a. Napełniłam tusze do pełna i po ok.10 kartkach ubyło mi 4 mm czarnego tuszu w pojemniku. Mam nadzieję, że będzie wydajna. Na razie nie mogę tego stwierdzić. Fajnie, że można zobaczyć, ile ubyło tuszu. Dolewanie jest banalnie proste, tusz nie wylewa się. Martwi mnie tylko, że przenosić trzeba ją w pozycji poziomej, bo inaczej tusz może się wylewać. Ogólnie jestem zadowolona z zakupu.', 'pros': ['czyste napełnianie atramentem', 'głośność pracy'], 'cons': [], 'up_votes': '3', 'down_votes': '3', 'published': '2020-12-10 19:41:04', 'purchased': '2020-12-04 21:02:01'}, {'opinion_id': '18299406', 'author': 'U...o', 'recommend': 'Polecam', 'stars': '4,5/5', 'content': 'Po 1 dniu uzytkowania mozna stwierdzic 1-polaczenie z kompem poprzez wi fi-bez problemu\\n2-tankowanie zbiorniczkow-bez problemu\\n3-montaz ,,glowic,,-beznadziejny dostep,jakies pomaranczowe badziewie ciezko wydostac z wnetrza drukarki(po cholere takie zabezpieczenie)ale udalo sie\\n4-polaczenie z telefonem -bez problemu\\n5-jak z kompa tak i z telefonu(za posrednictwem aplikacji  HP SMART) bez problemow\\n6-druk na zwyklym papierze spoko (czern i kolor )\\n7-po testach na papierze foto -zobaczymy\\n8-ogolnie -za taka kase polecam', 'pros': ['czyste napełnianie atramentem', 'jakość wydruków', 'jakość wydruku', 'niski koszt wydruku', 'szybkość wydruku', 'wydajna', 'wydajność'], 'cons': ['głośność pracy'], 'up_votes': '0', 'down_votes': '0', 'published': '2024-01-12 21:03:08', 'purchased': '2024-01-09 18:20:01'}, {'opinion_id': '15226709', 'author': 'k...l', 'recommend': 'Polecam', 'stars': '4/5', 'content': 'Wszystko z opisu się zgadza. Baaardzo ekonomiczna, jakość druku wysoka, jak na czołg drukarkowy niewielka... Przypomniałem sobie tyko dlaczego nie lubię HP-ków. Mało intuicyjna aplikacja, nie tak denerwująca jak kiedyś ale konfiguracja trwała zbyt długo. A poza tym zupełnie spoko.', 'pros': [], 'cons': [], 'up_votes': '3', 'down_votes': '0', 'published': '2021-11-18 17:47:41', 'purchased': '2021-11-01 18:36:33'}, {'opinion_id': '13501735', 'author': 'g...k', 'recomend': None, 'stars': '3,5/5', 'content': 'produkt na wstępie nie ruszył bo był problem z dyszami , po wymianie chodzi  OK , trochę długo i hałaśliwie  trwa proces włączania ', 'pros': ['jakość wydruków', 'jakość wydruku', 'szybkość wydruku'], 'cons': ['głośność pracy'], 'up_votes': '4', 'down_votes': '0', 'published': '2020-12-04 00:11:48', 'purchased': '2020-11-17 18:04:01'}, {'opinion_id': '14283834', 'author': 'Użytkownik Ceneo', 'recommend': 'Polecam', 'stars': '4/5', 'content': 'Bardzo wydajna i oszczędna drukarka. Solidna, dobra jakość wykonania.\\nDługo się czeka przy włączeniu zanim będzie gotowa do pracy. Dość głośna.', 'pros': ['jakość wydruków', 'jakość wydruku'], 'cons': ['głośność pracy', 'szybkość wydruku'], 'up_votes': '1', 'down_votes': '1', 'published': '2021-04-14 00:32:31', 'purchased': '2021-03-23 08:31:21'}, {'opinion_id': '11176459', 'author': 'Madziana', 'recommend': 'Polecam', 'stars': '5/5', 'content': 'Drukarka od samego początku jest bardzo przyjazna, pierwsze uruchomienie pomimo że na początku wygląda na dość skomplikowane po obejrzeniu szczegółowej instrukcji jest banalnie proste :) Konfiguracje i podłączenie do sieci wi fi trwało bardzo krótko i była wyjątkowo  łatwe :) Drukarka została skonfigurowana została na komputerze oraz smartfonie z androidem, zarówno na komputerze jak i na smarthonie aplikacja do sterowania drukarki jest bardzo przejrzysta i intuicyjna. Na pochwałę zasługuje  aplikacja dla androida która jest konfigurowalna  i można przystosować ją dla swoich potrzeb, jeśli chodzi o wydruk to można przyznać że, drukarka drukuje cicho, bardzo szybko a jakość wydruku zarówno w kolorze czarnym jak i w kolorze jest rewelacyjna :) kolory żywe, wyraziste, obrazki nierozmazane. Mogę oficjalnie przyznać że spełniła moje oczekiwania w wydruku jak i w wyglądzie :) ', 'pros': ['jakość wydruków', 'szybkość wydruku', 'wydajność'], 'cons': [], 'up_votes': '3', 'down_votes': '5', 'published': '2019-10-19 23:50:49', 'purchased': None}, {'opinion_id': '18283057', 'author': 'u...g', 'recomend': None, 'stars': '3,5/5', 'content': 'urządzenie przy pierwszym użytkowaniu wydaje się dobre. Problem z konfiguracją drukarki w systemie win7 na starszym urządzeniu.', 'pros': [], 'cons': [], 'up_votes': '0', 'down_votes': '0', 'published': '2024-01-08 15:16:39', 'purchased': '2023-12-18 13:21:12'}, {'opinion_id': '13654028', 'author': 'p...m', 'recommend': 'Nie polecam', 'stars': '1/5', 'content': 'Drukarka jak na tą cenę jest bardzo słaba, Czas  potrzebny do wydrukowania pierwszej strony to prawie dwie minuty. A odgłosy wydaje takie, jakby za chwilę miała rozpaść się. W tej cenie należałoby też oczekiwać dwustronnego automatycznego wydruku. Wprawdzie info o dwustronnym wydruku jest na stronie sklepu, ale w rzeczywistości nie ma to nic wspólnego z dwustronnym wydrukiem, kartkę trzeba przenosić ręcznie zgodnie z wyświetlona instrukcją.', 'pros': [], 'cons': ['głośność pracy', 'jakość wydruków', 'jakość wydruku', 'szybkość wydruku'], 'up_votes': '6', 'down_votes': '1', 'published': '2020-12-26 21:42:32', 'purchased': '2020-11-26 08:21:40'}, {'opinion_id': '13243464', 'author': 'm...i', 'recommend': 'Nie polecam', 'stars': '0,5/5', 'content': 'Niestety pierwsze wrazenie po uruchomieniu sprzetu negatywne. Odrazu trzeba bylo skladac reklamacje poniewaz jakosc druku odbiegała od normy. Po zgloszeniu okazalo sie ze jest uszkodzona glowica. Zobaczymy jak przyjdzie nowa glowica czy cos to da. Jaknarazie to wielka porażka a myslalam ze sprzet za ta cene bedzie działał bez zarzutu. Niestety pomyliłam się. ', 'pros': [], 'cons': [], 'up_votes': '8', 'down_votes': '4', 'published': '2020-10-20 18:00:33', 'purchased': '2020-10-16 15:51:18'}]\n"
     ]
    }
   ],
   "source": [
    "product_id = \"84514582\"\n",
    "url = f\"https://www.ceneo.pl/{product_id}#tab=reviews\"\n",
    "all_opinions = []\n",
    "while url:\n",
    "    response =requests.get(url, headers = headers)\n",
    "    if response.status_code == 200:\n",
    "        \n",
    "    \n",
    "    \n",
    "        for opinion in opinions:\n",
    "            single_opinion ={}\n",
    "            single_opinion['opinion_id'] = opinion[\"data-entry-id\"]\n",
    "            single_opinion[\"author\"] = opinion.select_one(\"span.user-post__author-name\").text.strip()\n",
    "            try:\n",
    "                single_opinion[\"recommend\"] = opinion.select_one(\"span.user-post__author-recomendation > em\").text.strip()\n",
    "            except AttributeError:\n",
    "                single_opinion[\"recomend\"] = None\n",
    "            single_opinion[\"stars\"] = opinion.select_one(\"span.user-post__score-count\").text\n",
    "            single_opinion[\"content\"] = opinion.select_one(\"div.user-post__text\").text\n",
    "            single_opinion[\"pros\"] = [tag.text for tag in opinion.select(\"div.review-feature__item--positive\")]\n",
    "            single_opinion[\"cons\"] = [tag.text for tag in  opinion.select(\"div.review-feature__item--negative\")]\n",
    "            single_opinion[\"up_votes\"] = opinion.select_one(\"button.vote-yes\")[\"data-total-vote\"]\n",
    "            single_opinion[\"down_votes\"] = opinion.select_one(\"button.vote-no\")[\"data-total-vote\"]\n",
    "            single_opinion[\"published\"] = opinion.select_one(\"span.user-post__published > time:nth-child(1)\")[\"datetime\"]\n",
    "        \n",
    "            \n",
    "            try:\n",
    "                single_opinion[\"purchased\"]= opinion.select_one(\"span.user-post__published > time:nth-child(2)\")[\"datetime\"]\n",
    "            except TypeError:\n",
    "                single_opinion[\"purchased\"] = None\n",
    "            all_opinions.append(single_opinion)\n",
    "        try:\n",
    "          url = \"https://www.ceneo.pl\"+page_dom.select_one(\"a.pagination__item pagination__next\")[\"href\"]\n",
    "        except TypeError:\n",
    "           url = None\n",
    "    \n",
    "    print(all_opinions)\n",
    "\n",
    "\n",
    "\n",
    "\n"
   ]
  },
  {
   "cell_type": "code",
   "execution_count": 15,
   "metadata": {},
   "outputs": [],
   "source": [
    "if not os.path.exists(\"./opinions\"):\n",
    "    os.mkdir(\"./opinions\")\n"
   ]
  },
  {
   "cell_type": "code",
   "execution_count": 17,
   "metadata": {},
   "outputs": [],
   "source": [
    "with open(f\"./opinions/{product_id}.json\", \"w\", encoding=\"UTF-8\") as jf:\n",
    "    json.dump(all_opinions, jf, indent=4, ensure_ascii=False)"
   ]
  }
 ],
 "metadata": {
  "kernelspec": {
   "display_name": ".venv",
   "language": "python",
   "name": "python3"
  },
  "language_info": {
   "codemirror_mode": {
    "name": "ipython",
    "version": 3
   },
   "file_extension": ".py",
   "mimetype": "text/x-python",
   "name": "python",
   "nbconvert_exporter": "python",
   "pygments_lexer": "ipython3",
   "version": "3.11.4"
  }
 },
 "nbformat": 4,
 "nbformat_minor": 2
}
